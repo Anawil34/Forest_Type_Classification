{
 "cells": [
  {
   "cell_type": "markdown",
   "metadata": {},
   "source": [
    "# README\n",
    "In this hackatron I tried to use LLM to do the feature engineer on the specialize topic which is the forest type classfication from Satellite Data"
   ]
  },
  {
   "cell_type": "code",
   "execution_count": 1,
   "metadata": {},
   "outputs": [],
   "source": [
    "import os\n",
    "os.environ[\"OPENAI_API_KEY\"] = \"key\"\n",
    "os.environ[\"TAVILY_API_KEY\"] = \"key\"\n",
    "os.environ[\"LANGCHAIN_API_KEY\"] = \"key\"\n",
    "os.environ[\"LANGCHAIN_TRACING_V2\"] = \"true\""
   ]
  },
  {
   "cell_type": "code",
   "execution_count": 81,
   "metadata": {},
   "outputs": [],
   "source": [
    "from langchain import hub\n",
    "from langchain_community.document_loaders import CSVLoader\n",
    "from langchain_core.output_parsers import StrOutputParser, JsonOutputParser\n",
    "from langchain_core.runnables import RunnablePassthrough, RunnableParallel, RunnablePick\n",
    "from langchain_text_splitters import RecursiveCharacterTextSplitter\n",
    "from langchain_core.beta.runnables.context import Context\n",
    "from langchain_openai import OpenAIEmbeddings"
   ]
  },
  {
   "cell_type": "code",
   "execution_count": 4,
   "metadata": {},
   "outputs": [],
   "source": [
    "from langchain_openai import ChatOpenAI\n",
    "\n",
    "llm = ChatOpenAI(model=\"gpt-4o\")"
   ]
  },
  {
   "cell_type": "markdown",
   "metadata": {},
   "source": [
    "# Agent"
   ]
  },
  {
   "cell_type": "code",
   "execution_count": 9,
   "metadata": {},
   "outputs": [],
   "source": [
    "from langchain.agents.agent_types import AgentType\n",
    "from langchain_experimental.agents.agent_toolkits import create_pandas_dataframe_agent\n",
    "from langchain_openai import ChatOpenAI, OpenAI"
   ]
  },
  {
   "cell_type": "code",
   "execution_count": 11,
   "metadata": {},
   "outputs": [],
   "source": [
    "import pandas as pd\n",
    "df = pd.read_csv(\"../data/train.csv\")\n",
    "features = pd.read_csv(\"../data/IndexDB_scrape.csv\")"
   ]
  },
  {
   "cell_type": "code",
   "execution_count": 14,
   "metadata": {},
   "outputs": [],
   "source": [
    "agent = create_pandas_dataframe_agent(OpenAI(temperature=0, model=\"gpt-3.5-turbo-instruct\"), df, verbose=True)"
   ]
  },
  {
   "cell_type": "code",
   "execution_count": 15,
   "metadata": {},
   "outputs": [],
   "source": [
    "agent = create_pandas_dataframe_agent(\n",
    "    ChatOpenAI(temperature=0, model=\"gpt-3.5-turbo-0613\"),\n",
    "    df,\n",
    "    verbose=True,\n",
    "    agent_type=AgentType.OPENAI_FUNCTIONS,\n",
    ")"
   ]
  },
  {
   "cell_type": "code",
   "execution_count": 153,
   "metadata": {},
   "outputs": [],
   "source": [
    "from langchain_core.prompts import ChatPromptTemplate, MessagesPlaceholder\n",
    "prompt = ChatPromptTemplate.from_messages(\n",
    "  [\n",
    "    (\"system\",\n",
    "     \"\"\"You are a chatbot useful to give a code interpreter instructions to filter a df into a smaller table to answer the human question. \n",
    "\n",
    "Rule: Don't explain your code, just write the code using pandas.\n",
    "(Most important) Rule2: no small talk or introduction needed. just the code.\n",
    "Rule3: Your code must be one-liner execuable in python eval().\n",
    "Rule4: Your code must create create new column in the df.\n",
    "Example: Human: Wide Dynamic Range Vegetation.  \n",
    "Your answer:df['WDRVI'] = (0.2 * (df['b8'] - df['b4'])) / (0.2 * (df['b8'] + df['b4']) + (1 - 0.2))\n",
    "\"\"\"),\n",
    "    (\"user\",\n",
    "      \"\"\"DF CONTEXT: You are working with Sentinel-2 satelite data. Here is the result of df.head() \n",
    "       id   b1   b11   b12   b2    b3   b4    b5    b6    b7    b8  b8_a    b9 nforest_type\n",
    "0   2002  293  1927  1038  278   475  453   987  1773  2184  1900  2343  3039          MDF\n",
    "1   3212  197  1598   697  201   347  228   682  1982  2449  2254  2685  2690          DDF\n",
    "2  13312  929  1975  1031  982  1020  856  1220  2051  2421  2392  2671  2683          MDF\n",
    "3  17020  132  1560   689  189   408  175   609  2117  2907  3024  3005  2955          MDF\n",
    "4   5967  241  1944  1131  362   538  487   918  1549  1844  1702  2077  2043          MDF\n",
    "\n",
    "        Question: {question}\n",
    "        Calulation Formula:{formula}\n",
    "        Related Variables: {variables}\n",
    "        The names of the columns should be different from the list: {columns_list}\n",
    "        Your Anser:\n",
    "        \"\"\")\n",
    "  ]\n",
    ")"
   ]
  },
  {
   "cell_type": "code",
   "execution_count": 154,
   "metadata": {},
   "outputs": [],
   "source": [
    "from langchain_core.prompts import ChatPromptTemplate, MessagesPlaceholder\n",
    "fomula_creation_prompt = ChatPromptTemplate.from_messages(\n",
    "  [\n",
    "    (\"system\",\n",
    "     \"\"\"You are Geo Scientist that work with Sentinel-2 Data. You are currently try to do the forest classfication using sentinel 2 data with the target class of Dry Evergreen Forest, Mixed deciduous forest, DECIDUOUS DIPTEROCARP FOREST. \n",
    "       Your job is to 1.write a formula that machine could understand. 2. give a short decription of what is that feature that formula represent and how that feature might or might not help model classify better.\n",
    "Rule: When write the formula Don't explain your formula. just write a math formula by the data of sentinel 2.\n",
    "(Most important) Rule2: When writing formula no small talk or introduction needed. just the formula.\n",
    "\"\"\"),\n",
    "    (\"user\",\n",
    "      \"\"\"\n",
    "        Question: {question}\n",
    "        \"\"\")\n",
    "  ]\n",
    ")\n",
    "\n",
    "json_schema = {\n",
    "    \"title\": \"formula\",\n",
    "    \"description\": \"formula as well as describtion.\",\n",
    "    \"type\": \"object\",\n",
    "    \"properties\": {\n",
    "        \"formula\": {\n",
    "            \"type\": \"string\",\n",
    "            \"description\": \"formula of the question.\",\n",
    "        },\n",
    "        \"description\": {\n",
    "            \"type\": \"string\",\n",
    "            \"description\": \"short describtion about the what the feature represent.\",\n",
    "        }\n",
    "    },\n",
    "    \"required\": [\"formula\", \"description\"],\n",
    "}"
   ]
  },
  {
   "cell_type": "code",
   "execution_count": 148,
   "metadata": {},
   "outputs": [],
   "source": [
    "llm = ChatOpenAI(model=\"gpt-3.5-turbo\", temperature=0 , verbose=0)\n",
    "formula_chain = (\n",
    "    {\"question\": RunnablePassthrough()}\n",
    "    | fomula_creation_prompt\n",
    "    | llm.with_structured_output(json_schema)\n",
    ")"
   ]
  },
  {
   "cell_type": "code",
   "execution_count": 123,
   "metadata": {},
   "outputs": [
    {
     "data": {
      "text/plain": [
       "{'formula': '(NIR - Red) / (NIR + Red + 0.5)',\n",
       " 'description': 'Adjusted Transformed Soil-Adjusted Vegetation Index (ATSAVI) is a vegetation index that minimizes soil brightness influences by adjusting the traditional Soil-Adjusted Vegetation Index (SAVI) with a constant factor. It enhances the contrast between vegetation and soil, making it useful for vegetation classification and monitoring.'}"
      ]
     },
     "execution_count": 123,
     "metadata": {},
     "output_type": "execute_result"
    }
   ],
   "source": [
    "formula_chain.invoke(\"create Adjusted transformed soil-adjusted VI\")"
   ]
  },
  {
   "cell_type": "code",
   "execution_count": 155,
   "metadata": {},
   "outputs": [],
   "source": [
    "from operator import itemgetter\n",
    "llm = ChatOpenAI(model=\"gpt-3.5-turbo\", temperature=0 , verbose=0)\n",
    "rag_chain = (\n",
    "    Context.setter(\"input\")\n",
    "    |RunnablePassthrough()|itemgetter(\"question\")\n",
    "    |formula_chain\n",
    "    |Context.setter(\"formula_output\")\n",
    "    |{\"formula\": Context.getter(\"formula_output\")|itemgetter(\"formula\"), \n",
    "     \"question\": Context.getter(\"input\")| itemgetter(\"question\"), \n",
    "     \"variables\": Context.getter(\"input\")| itemgetter(\"variables\"), \n",
    "     \"columns_list\": Context.getter(\"input\")| itemgetter(\"columns_list\"),}\n",
    "    | prompt\n",
    "    | llm\n",
    "    | StrOutputParser()\n",
    "    | {\n",
    "      \"formula\": RunnablePassthrough(),\n",
    "      \"description\": Context.getter(\"formula_output\")| itemgetter(\"description\")\n",
    "    }\n",
    ")"
   ]
  },
  {
   "cell_type": "code",
   "execution_count": 150,
   "metadata": {},
   "outputs": [
    {
     "data": {
      "text/plain": [
       "{'formula': 'df[\\'ATSAVI\\'] = (df[\"b8\"] - df[\"b4\"]) / (df[\"b8\"] + df[\"b4\"] + 0.5)',\n",
       " 'description': 'Adjusted Transformed Soil-Adjusted Vegetation Index (ATSAVI) represents the vegetation cover by considering the soil background reflectance. It helps in enhancing the contrast between vegetation and soil, making it useful for vegetation classification.'}"
      ]
     },
     "execution_count": 150,
     "metadata": {},
     "output_type": "execute_result"
    }
   ],
   "source": [
    "response = rag_chain.invoke(input={\"question\":\"create Adjusted transformed soil-adjusted VI\", \"variables\": \"\", \"columns_list\":\"\"})\n",
    "response"
   ]
  },
  {
   "cell_type": "code",
   "execution_count": 156,
   "metadata": {},
   "outputs": [],
   "source": [
    "import re\n",
    "\n",
    "def extract_column_name(s):\n",
    "    # Define a regular expression pattern to match the column name\n",
    "    pattern = r\"df\\['(.+?)'\\]\"  # Matches df['column_name']\n",
    "    match = re.search(pattern, s)\n",
    "    \n",
    "    if match:\n",
    "        column_name = match.group(1)  # Get the captured column name\n",
    "        return column_name\n",
    "    else:\n",
    "        return None"
   ]
  },
  {
   "cell_type": "code",
   "execution_count": 160,
   "metadata": {},
   "outputs": [
    {
     "name": "stdout",
     "output_type": "stream",
     "text": [
      "iteration:0 -> formula: df['WDRVI'] = (df['b8'] - df['b4']) / (df['b8'] + df['b4'])\n",
      "iteration:1 -> formula: df['WDRVI'] = (0.1 * df['b8_a'] - df['b4']) / (0.1 * df['b8_a'] + df['b4'])\n",
      "iteration:2 -> formula: df['VARI_REDGE'] = (df['b8'] - df['b4']) / (df['b8'] + df['b4'])\n",
      "iteration:3 -> formula: df['VARI_700'] = (df['b8'] - (2.5 * df['b4']) + 700) / (1 + df['b8'] + df['b4'])\n",
      "iteration:4 -> formula: df['VARI_GREEN'] = (2.5 * (df['b8'] - df['b4'])) / ((df['b8'] + 6 * df['b4'] - 7.5 * df['b2']) + 1)\n",
      "iteration:5 -> formula: df['VARI_700'] = (df['b8'] - df['b7']) / (df['b8'] + df['b7'])\n",
      "iteration:6 -> formula: df['TCI'] = (df['b8'] - df['b4']) / (df['b8'] + df['b4'] + 0.1)\n",
      "iteration:7 -> formula: df['Transformed_Vegetation_Index'] = (df['b8'] - df['b4']) / (df['b8'] + df['b4'] + 0.1)\n",
      "iteration:8 -> formula: df['Transformed_Soil_Adjusted_Vegetation_Index_2'] = (2.4 * df['b8'] - 1.5 * df['b4']) / (df['b8'] + df['b4'] + 0.5)\n",
      "iteration:9 -> formula: df['Transformed_Soil_Adjusted_Vegetation_Index_2'] = (2 * df['b8'] + 1 - ((2 * df['b8'] + 1)**2 - 8 * (df['b8'] - df['b4']))**0.5) / 2\n",
      "iteration:10 -> formula: df['Transformed_NDVI'] = (df['b8'] - df['b4']) / (df['b8'] + df['b4'])\n",
      "iteration:11 -> formula: df['TCAR'] = (df['b8'] - df['b6']) / (df['b8'] + df['b6'])\n",
      "iteration:12 -> formula: df['TCARI_OSAVI'] = (df['b8'] - df['b4']) / (df['b8'] + df['b4'] - df['b2'])\n",
      "iteration:13 -> formula: df['TC_YVI_MSS'] = 0.3 * df['b2'] + 0.4 * df['b3'] + 0.2 * df['b4'] + 0.1 * df['b8']\n",
      "iteration:14 -> formula: df['Tasselled_Cap_wetness'] = (0.1509 * df['b1']) + (0.1973 * df['b2']) + (0.3279 * df['b3']) + (0.3406 * df['b4']) + (-0.7112 * df['b5']) + (-0.4572 * df['b6'])\n",
      "iteration:15 -> formula: df['TC_vegetation'] = 0.670 * df['b2'] + 0.430 * df['b3'] - 0.120 * df['b4'] - 0.215 * df['b8'] + 0.020 * df['b11'] - 0.300 * df['b12']\n",
      "iteration:16 -> formula: df['TC_Soil_Brightness_Index_MSS'] = 0.3037 * df['b2'] + 0.2793 * df['b3'] + 0.4743 * df['b4'] + 0.5585 * df['b8'] + 0.5082 * df['b11'] + 0.1863 * df['b12']\n",
      "iteration:17 -> formula: df['TCNSI'] = 0.303 * df['b1'] + 0.279 * df['b2'] + 0.474 * df['b3'] + 0.558 * df['b4'] + 0.508 * df['b5'] + 0.186 * df['b7']\n",
      "iteration:18 -> formula: df['TC_GVI_MSS'] = 0.3037 * df['b2'] + 0.2793 * df['b3'] + 0.4743 * df['b4'] + 0.5585 * df['b8'] + 0.5082 * df['b11'] + 0.1863 * df['b12']\n",
      "iteration:19 -> formula: df['TCB'] = 0.3037 * df['b2'] + 0.2793 * df['b3'] + 0.4743 * df['b4'] + 0.5585 * df['b5'] + 0.5082 * df['b6'] + 0.1863 * df['b7']\n",
      "iteration:20 -> formula: df['SIPI3'] = (2.5 * df['b8_a'] - 1.5 * df['b4'] - 1.5 * df['b3']) / ((2 * df['b8_a'] + 1) ** 2 + (2.4 * df['b4'] + 1) ** 2 + (2.1 * df['b3'] + 1) ** 2) ** 0.5\n",
      "iteration:21 -> formula: df['SIPI1'] = (1.0 - 2.0 * df['b8_a'] + df['b11']) / (1.0 + 2.0 * df['b8_a'] - df['b11'])\n",
      "iteration:22 -> formula: df['SQRT(IR/R)'] = (df['b11'] / df['b4']) ** 0.5\n",
      "iteration:23 -> formula: df['SLAVI'] = (df['b8'] - df['b4']) / (df['b8'] + df['b4'])\n",
      "iteration:24 -> formula: df['SAVI2'] = (2.4 * (df['b8_a'] - df['b4'])) / (df['b8_a'] + df['b4'] + 1)\n",
      "iteration:25 -> formula: df['Soil_Composition_Index'] = (df['b11'] + df['b12']) / (df['b8_a'] + df['b4'])\n",
      "iteration:26 -> formula: df['Soil_Background_Line'] = (df['b11'] + df['b12']) / 2\n",
      "iteration:27 -> formula: df['SARVI3'] = (df['b8'] - (2.5 * df['b4']) + (1.5 * df['b2'])) / (df['b8'] + (2 * df['b4']) - (0.5 * df['b2']))\n",
      "iteration:28 -> formula: df['SARVI2'] = (2.5 * (df['b8'] - df['b4'])) / ((df['b8'] + 6 * df['b4'] - 7.5 * df['b2']) + 1)\n",
      "iteration:29 -> formula: df['SARVI'] = (df['b8'] - df['b4']) / (df['b8'] + df['b4'] + 0.16)\n",
      "iteration:30 -> formula: df['SAVI'] = (df['b8'] - df['b4']) / (df['b8'] + df['b4'] + 0.16)\n",
      "iteration:31 -> formula: df['Band_885'] = df['b8']\n",
      "iteration:32 -> formula: df['Band_850'] = df['b8']\n",
      "iteration:33 -> formula: df['Single_Band_801'] = df['b8']\n",
      "iteration:34 -> formula: df['Single_Band_735'] = df['b5']\n",
      "iteration:35 -> formula: df['Single_Band_705'] = df['b5']\n",
      "iteration:36 -> formula: df['Single_Band_703'] = df['b7']\n",
      "iteration:37 -> formula: df['Single_Band_700'] = df['b7']\n",
      "iteration:38 -> formula: df['Single_Band_680'] = df['b8']\n",
      "iteration:39 -> formula: df['Single_Band_675'] = df['b8']\n",
      "iteration:40 -> formula: df['Single_Band_670'] = df['b8']\n",
      "iteration:41 -> formula: df['Single_Band_660'] = df['b8']\n",
      "iteration:42 -> formula: df['Single_Band_655'] = df['b8']\n",
      "iteration:43 -> formula: df['Single_Band_555'] = df['b5']\n",
      "iteration:44 -> formula: df['Band_550'] = df['b2']\n",
      "iteration:45 -> formula: df['Single_Band_495'] = df['b4']\n",
      "iteration:46 -> formula: df['Band_470'] = df['b4']\n",
      "iteration:47 -> formula: df['Band_460'] = df['b4']\n",
      "iteration:48 -> formula: df['Single_Band_2280'] = df['b8'] - df['b4']\n",
      "iteration:49 -> formula: df['Single_Band_2270'] = df['b8']\n",
      "iteration:50 -> formula: df['Band_2250'] = df['b8'] - df['b2']\n",
      "iteration:51 -> formula: df['Single_Band_2240'] = df['b8']\n",
      "iteration:52 -> formula: df['Single_Band_2218'] = df['b8_a']\n",
      "iteration:53 -> formula: df['Single_Band_2180'] = df['b8_a']\n",
      "iteration:54 -> formula: df['Single_Band_2130'] = df['b8'] - df['b12']\n",
      "iteration:55 -> formula: df['Single_Band_2100'] = df['b9']\n",
      "iteration:56 -> formula: df['Single_Band_1580'] = df['b8']\n",
      "iteration:57 -> formula: df['Simple_Ratio_SWIRI_NIR'] = df['b11'] / df['b8']\n",
      "iteration:58 -> formula: df['Simple_Ratio_Red_NIR'] = df['b4'] / df['b8']\n",
      "iteration:59 -> formula: df['Simple_Ratio_Red_Green'] = df['b4'] / df['b3']\n",
      "iteration:60 -> formula: df['Simple_Ratio_Red_Blue'] = df['b4'] / df['b2']\n",
      "iteration:61 -> formula: df['Simple_Ratio_NIR_Rededge'] = df['b8'] / df['b11']\n",
      "iteration:62 -> formula: df['Simple_Ratio_NIR_Red'] = df['b8'] / df['b4']\n",
      "iteration:63 -> formula: df['Simple_Ratio_NIR_MIR'] = df['b8'] / df['b12']\n",
      "iteration:64 -> formula: df['Simple_Ratio_NIR_G'] = df['b8'] / df['b3']\n",
      "iteration:65 -> formula: df['Simple_Ratio_NIR_700_715'] = df['b8'] / (df['b11'] - df['b12'])\n",
      "iteration:66 -> formula: df['Simple_Ratio_MIR_Red'] = df['b11'] / df['b4']\n",
      "iteration:67 -> formula: df['Simple_Ratio_MIR_NIR'] = df['b12'] / df['b8']\n",
      "iteration:68 -> formula: df['Simple_Ratio_860_708'] = 860/708\n",
      "iteration:69 -> formula: df['Simple_Ratio_860_550'] = 860/550\n",
      "iteration:70 -> formula: df['Simple_Ratio_850_710'] = 850/710\n",
      "iteration:71 -> formula: df['Simple_Ratio_833_658'] = 833/658\n",
      "iteration:72 -> formula: df['Simple_Ratio_833_1649'] = 833/1649\n",
      "iteration:73 -> formula: df['Simple_Ratio_810_560'] = 810/560\n",
      "iteration:74 -> formula: df['Simple_Ratio_801_670'] = df[801] / df[670]\n",
      "iteration:75 -> formula: df['Simple_Ratio_801_550'] = df['b8'] / df['b4']\n",
      "iteration:76 -> formula: df['Simple_Ratio_800_680'] = 800/680\n",
      "iteration:77 -> formula: df['Simple_Ratio_800_675'] = 800/675\n",
      "iteration:78 -> formula: df['Simple_Ratio_800_670'] = 800/670\n",
      "iteration:79 -> formula: df['Simple_Ratio_800_650'] = 800/650\n",
      "iteration:80 -> formula: df['Simple_Ratio_800_550'] = 800/550\n",
      "iteration:81 -> formula: df['Simple_Ratio_800_500'] = 800/500\n",
      "iteration:82 -> formula: df['Simple_Ratio_800_470'] = 800/470\n",
      "iteration:83 -> formula: df['Simple_Ratio_800_2170'] = 800/2170\n",
      "iteration:84 -> formula: df['Simple_Ratio_774_677'] = 774/677\n",
      "iteration:85 -> formula: df['Simple_Ratio_735_710'] = df['b8'] / df['b7']\n",
      "iteration:86 -> formula: df['Simple_Ratio_710_670'] = df[710] / df[670]\n",
      "iteration:87 -> formula: df['Simple_Ratio_700_670'] = df['Single_Band_700'] / df['Single_Band_670']\n",
      "iteration:88 -> formula: df['Simple_Ratio_700'] = df['b8'] / df['b4']\n",
      "iteration:89 -> formula: df['Simple_Ratio_675_705'] = df[675] / df[705]\n",
      "iteration:90 -> formula: df['Simple_Ratio_675_700'] = 675/700\n",
      "iteration:91 -> formula: df['Simple_Ratio_675_555'] = df[675] / df[555]\n",
      "iteration:92 -> formula: df['Simple_Ratio_674_553'] = 674/553\n",
      "iteration:93 -> formula: df['Simple_Ratio_672_708'] = 672/708\n",
      "iteration:94 -> formula: df['Simple_Ratio_672_550'] = 672/550\n",
      "iteration:95 -> formula: df['Simple_Ratio_560_658'] = df[560] / df[658]\n",
      "iteration:96 -> formula: df['Simple_Ratio_554_677'] = 554/677\n",
      "iteration:97 -> formula: df['Simple_Ratio_550_800'] = 550/800\n",
      "iteration:98 -> formula: df['Simple_Ratio_550_680'] = 550/680\n",
      "iteration:99 -> formula: df['Simple_Ratio_550_670'] = df['Band_550'] / df['Band_670']\n",
      "iteration:100 -> formula: df['Simple_Ratio_520_670'] = 520/670\n",
      "iteration:101 -> formula: df['Simple_Ratio_450_550'] = df['b4'] / df['b5']\n",
      "iteration:102 -> formula: df['Simple_Ratio_440_740'] = 440/740\n",
      "iteration:103 -> formula: df['Simple_Ratio_1650_2218'] = 1650/2218\n",
      "iteration:104 -> formula: df['Simple_Ratio_1600_820'] = 1600/820\n",
      "iteration:105 -> formula: df['Simple_Ratio_1599_819'] = 1599/819\n",
      "iteration:106 -> formula: df['Shape_Index'] = (2 * df['b8_a'] + 1 - df['b4']) / (2 * df['b8_a'] + 1 + df['b4'])\n",
      "iteration:107 -> formula: df['SAVImir'] = (1 - 0.5 * ((df['b8'] - df['b4']) / (df['b8'] + df['b4'] + 0.5)))\n",
      "iteration:108 -> formula: df['RDVI'] = (df['b8'] - df['b4']) / (df['b8'] + df['b4'])\n",
      "iteration:109 -> formula: df['Reflectance'] = (df['b4'] + df['b5']) / 2\n",
      "iteration:110 -> formula: df['Reduced_Simple_Ratio'] = (df['b4'] + 1) / df['b3']\n",
      "iteration:111 -> formula: df['REP_Linear_Interpolation'] = (df['b5'] + df['b6']) / 2\n",
      "iteration:112 -> formula: df['REIP3'] = (0.5 * (df['b11'] + df['b10'])) - (2 * df['b9'])\n",
      "iteration:113 -> formula: df['REIP2'] = (2 * df['b7'] - df['b6'] - df['b8']) / (2 + df['b6'] + df['b8'])\n",
      "iteration:114 -> formula: df['REIP1'] = (df['b8'] - df['b4']) / (df['b8'] + df['b4'])\n",
      "iteration:115 -> formula: df['Red_Blue_NDVI'] = (df['b11'] - df['b4']) / (df['b11'] + df['b4'])\n",
      "iteration:116 -> formula: df['REIP2'] = (df['b5'] - df['b4']) / (df['b5'] + df['b4'])\n",
      "iteration:117 -> formula: df['VARI_REDGE'] = (df['b5'] - df['b4']) / (df['b5'] + df['b4'])\n",
      "iteration:118 -> formula: df['RDVI2'] = (df['b8'] - df['b4']) / np.sqrt(df['b8'] + df['b4'])\n",
      "iteration:119 -> formula: df['RDVI'] = (df['b8'] - df['b4']) / (df['b8'] + df['b4'])\n",
      "iteration:120 -> formula: df['Ratio_Analysis_C4'] = (df['b8_a'] - df['b4']) / (df['b8_a'] + df['b4'])\n",
      "iteration:121 -> formula: df['Ratio_Analysis_C3'] = (df['b8_a'] - df['b4']) / (df['b8_a'] + df['b4'])\n",
      "iteration:122 -> formula: df['Ratio_Analysis_C4'] = (df['b8_a'] - df['b4']) / (df['b8_a'] + df['b4'])\n",
      "iteration:123 -> formula: df['Ratio_Analysis_C3'] = (df['b8_a'] - df['b4']) / (df['b8_a'] + df['b4'])\n",
      "iteration:124 -> formula: df['Ratio_Analysis_A2'] = (df['b8_a'] - df['b4']) / (df['b8_a'] + df['b4'])\n",
      "iteration:125 -> formula: df['Ratio_Analysis_A1'] = (df['b1'] + df['b2']) / (df['b3'] + df['b4'])\n",
      "iteration:126 -> formula: df['PVI'] = (0.5 * (df['b8'] - df['b4']) - (df['b8_a'] - df['b4'])) / (0.5 * (df['b8'] + df['b4']) + (df['b8_a'] + df['b4']))\n",
      "iteration:127 -> formula: df['Pan_NDVI'] = (df['b8'] - df['b4']) / (df['b8'] + df['b4'])\n",
      "iteration:128 -> formula: df['OSAVI'] = (1.3 * df['b8'] - 2.5 * df['b4']) / ((df['b8'] + 6 * df['b4'] - 7.5 * df['b2']) + 1)\n",
      "iteration:129 -> formula: df['NDVI'] = (df['b8'] - df['b4']) / (df['b8'] + df['b4'])\n",
      "iteration:130 -> formula: df['NDVI_690_710'] = (df['b8_a'] - df['b4']) / (df['b8_a'] + df['b4'])\n",
      "iteration:131 -> formula: df['NDSI'] = (df['b8'] - df['b11']) / (df['b8'] + df['b11'])\n",
      "iteration:132 -> formula: df['Normalized_Difference_RedGreen'] = (df['b4'] - df['b3']) / (df['b4'] + df['b3'])\n",
      "iteration:133 -> formula: df['Normalized_Difference_NIR_SWIR'] = (df['b8'] - df['b11']) / (df['b8'] + df['b11'])\n",
      "iteration:134 -> formula: df['Normalized_Difference_NIR_Rededge'] = (df['b8'] - df['b11']) / (df['b8'] + df['b11'])\n",
      "iteration:135 -> formula: df['Normalized_Difference_NIR_Red'] = (df['b11'] - df['b4']) / (df['b11'] + df['b4'])\n",
      "iteration:136 -> formula: df['Normalized_Difference_NIR_MIR'] = (df['b8'] - df['b11']) / (df['b8'] + df['b11'])\n"
     ]
    }
   ],
   "source": [
    "columns_list = df.columns.to_list()\n",
    "response_json = []\n",
    "\n",
    "func_str = \"\"\"\n",
    "def feature_engineering(df):\n",
    "\"\"\"\n",
    "\n",
    "def add_function_line(original_string:str, new_string):\n",
    "  return original_string + f\"\\n\\t{new_string}\"\n",
    "\n",
    "for idx, row in features.iterrows():\n",
    "  response = rag_chain.invoke(input={\"question\":\"Create \" + row[\"featurelink\"], \"variables\": row[\"variables\"], \"columns_list\": columns_list})\n",
    "  func_str = add_function_line(func_str, f\"#{row['featurelink']}\") #add comment of variable full name\n",
    "  func_str = add_function_line(func_str, response[\"formula\"]) #add formula to the function\n",
    "  response_json.append(response)\n",
    "  columns_list.append(extract_column_name(response[\"formula\"]))\n",
    "  print(f\"iteration:{idx} -> formula: {response['formula']}\")\n",
    "\n",
    "\n",
    "func_str = add_function_line(func_str, \"return df\")\n",
    "  \n",
    "  "
   ]
  },
  {
   "cell_type": "code",
   "execution_count": null,
   "metadata": {},
   "outputs": [],
   "source": [
    "print(func_str)"
   ]
  },
  {
   "cell_type": "markdown",
   "metadata": {},
   "source": []
  }
 ],
 "metadata": {
  "kernelspec": {
   "display_name": "base",
   "language": "python",
   "name": "python3"
  },
  "language_info": {
   "codemirror_mode": {
    "name": "ipython",
    "version": 3
   },
   "file_extension": ".py",
   "mimetype": "text/x-python",
   "name": "python",
   "nbconvert_exporter": "python",
   "pygments_lexer": "ipython3",
   "version": "3.9.18"
  }
 },
 "nbformat": 4,
 "nbformat_minor": 2
}
